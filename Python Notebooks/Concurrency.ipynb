{
 "cells": [
  {
   "cell_type": "markdown",
   "metadata": {
    "slideshow": {
     "slide_type": "notes"
    }
   },
   "source": [
    "# 1. Starting and Stopping Threads"
   ]
  },
  {
   "cell_type": "markdown",
   "metadata": {},
   "source": [
    "## Problem: Create and destroy threads for concurrent execution of code."
   ]
  },
  {
   "cell_type": "code",
   "execution_count": 4,
   "metadata": {},
   "outputs": [
    {
     "name": "stdout",
     "output_type": "stream",
     "text": [
      "Count  10\n"
     ]
    }
   ],
   "source": [
    "# Creating simple thread\n",
    "\n",
    "import time\n",
    "\n",
    "def countdown(n):\n",
    "    while n > 0:\n",
    "        print('Count ', n)\n",
    "        n -= 1\n",
    "        time.sleep(5)\n",
    "        \n",
    "from threading import Thread\n",
    "t = Thread(target=countdown, args = (10, ))\n",
    "t.start()"
   ]
  },
  {
   "cell_type": "code",
   "execution_count": 12,
   "metadata": {},
   "outputs": [
    {
     "name": "stdout",
     "output_type": "stream",
     "text": [
      "Count  5\n",
      "Count  4\n"
     ]
    }
   ],
   "source": [
    "# Simple thread with termination functionality\n",
    "\n",
    "class CountdownTask():\n",
    "    def __init__(self):\n",
    "        self._running = True\n",
    "        \n",
    "    def terminate(self):\n",
    "        self._running = False\n",
    "    \n",
    "    def run(self, n):\n",
    "        while self._running and n > 0:\n",
    "            print('Count ', n)\n",
    "            n -= 1\n",
    "            time.sleep(3)\n",
    "\n",
    "c = CountdownTask()\n",
    "t = Thread(target=c.run, args=(5, ))\n",
    "t.start()\n",
    "time.sleep(6)\n",
    "c.terminate()\n",
    "t.join()"
   ]
  },
  {
   "cell_type": "code",
   "execution_count": 14,
   "metadata": {},
   "outputs": [
    {
     "name": "stdout",
     "output_type": "stream",
     "text": [
      "Count  4\n",
      "Count  3\n",
      "Count  2\n",
      "Count  1\n"
     ]
    }
   ],
   "source": [
    "# Creating process\n",
    "\n",
    "import multiprocessing\n",
    "c = CountdownTask()\n",
    "p = multiprocessing.Process(target=c.run, args=(4, ))\n",
    "p.start()"
   ]
  },
  {
   "cell_type": "markdown",
   "metadata": {},
   "source": [
    "# 2. Determining If a Thread Has Started"
   ]
  },
  {
   "cell_type": "markdown",
   "metadata": {},
   "source": [
    "## Problem: You’ve launched a thread, but want to know when it actually starts running."
   ]
  },
  {
   "cell_type": "code",
   "execution_count": 19,
   "metadata": {},
   "outputs": [
    {
     "name": "stdout",
     "output_type": "stream",
     "text": [
      "Starting countdown\n",
      "Countdown thread started\n",
      "Main thread startedCount \n",
      " 9\n",
      "Count  1\n",
      "Count  8\n",
      "Count  7\n",
      "Count  6\n",
      "Count  5\n",
      "Count  4\n",
      "Count  3\n",
      "Count  2\n",
      "Count  1\n"
     ]
    }
   ],
   "source": [
    "# Using Event\n",
    "\n",
    "from threading import Thread, Event\n",
    "import time\n",
    "\n",
    "def countdown(n, started_evt):\n",
    "    print('Countdown thread started')\n",
    "    started_evt.set()\n",
    "    while n > 0:\n",
    "        print('Count ', n)\n",
    "        n -= 1\n",
    "        time.sleep(3)\n",
    "\n",
    "started_evt = Event()\n",
    "\n",
    "print('Starting countdown')\n",
    "t = Thread(target=countdown, args=(9, started_evt))\n",
    "t.start()\n",
    "started_evt.wait()\n",
    "print('Main thread started')"
   ]
  },
  {
   "cell_type": "code",
   "execution_count": 24,
   "metadata": {},
   "outputs": [
    {
     "name": "stdout",
     "output_type": "stream",
     "text": [
      "Count Down Count Up   101\n",
      "\n",
      "Count Down Count Up   92\n",
      "\n",
      "Count Down Count Up   83\n",
      "\n",
      "Count Down Count Up   47\n",
      "\n",
      "Count Down Count Up  6 \n",
      "5\n",
      "Count Down Count Up   65\n",
      "\n",
      "Count Down Count Up   74\n",
      "\n",
      "Count Down Count Up   38\n",
      "\n",
      "Count Up Count Down   92\n",
      "\n",
      "Count Up Count Down   101\n",
      "\n"
     ]
    }
   ],
   "source": [
    "# Using Condition object\n",
    "\n",
    "import threading\n",
    "import time\n",
    "\n",
    "class PeriodicTimer:\n",
    "    def __init__(self, interval):\n",
    "        self._interval = interval\n",
    "        self._flag = 0\n",
    "        self._cv = threading.Condition()\n",
    "        \n",
    "    def start(self):\n",
    "        t = threading.Thread(target=self.run)\n",
    "        t.daemon = True\n",
    "        t.start()\n",
    "        \n",
    "    def run(self):\n",
    "        while True:\n",
    "            time.sleep(self._interval)\n",
    "            with self._cv:\n",
    "                self._flag ^= 1\n",
    "                self._cv.notify_all()\n",
    "                \n",
    "    def wait_for_tick(self):\n",
    "        with self._cv:\n",
    "            last_flag = self._flag\n",
    "            while last_flag == self._flag:\n",
    "                self._cv.wait()\n",
    "                \n",
    "p_timer = PeriodicTimer(5)\n",
    "p_timer.start()\n",
    "\n",
    "def countdown(c):\n",
    "    while c > 0:\n",
    "        p_timer.wait_for_tick()\n",
    "        print('Count Down ', c)\n",
    "        c -= 1\n",
    "        \n",
    "def countup(c):\n",
    "    n = 1\n",
    "    while n <= c:\n",
    "        p_timer.wait_for_tick()\n",
    "        print('Count Up ', n)\n",
    "        n += 1\n",
    "\n",
    "threading.Thread(target=countdown, args=(10,)).start()\n",
    "threading.Thread(target=countup, args=(10,)).start()\n",
    "                "
   ]
  },
  {
   "cell_type": "code",
   "execution_count": 25,
   "metadata": {
    "collapsed": true
   },
   "outputs": [],
   "source": [
    "# Using semaphore\n",
    "\n",
    "def worker(n, sema):\n",
    "    sema.acquire()\n",
    "    print('Working ', n)\n",
    "    \n",
    "sema = threading.Semaphore(0)\n",
    "nworkers = 10\n",
    "\n",
    "for n in range(nworkers):\n",
    "    t = threading.Thread(target=worker, args=(n, sema,))\n",
    "    t.start()"
   ]
  },
  {
   "cell_type": "markdown",
   "metadata": {},
   "source": [
    "# Communicating between Threads"
   ]
  },
  {
   "cell_type": "code",
   "execution_count": null,
   "metadata": {
    "collapsed": true
   },
   "outputs": [],
   "source": []
  }
 ],
 "metadata": {
  "kernelspec": {
   "display_name": "Python 3",
   "language": "python",
   "name": "python3"
  },
  "language_info": {
   "codemirror_mode": {
    "name": "ipython",
    "version": 3
   },
   "file_extension": ".py",
   "mimetype": "text/x-python",
   "name": "python",
   "nbconvert_exporter": "python",
   "pygments_lexer": "ipython3",
   "version": "3.6.3"
  }
 },
 "nbformat": 4,
 "nbformat_minor": 2
}
